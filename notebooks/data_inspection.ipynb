{
 "cells": [
  {
   "cell_type": "code",
   "execution_count": 1,
   "metadata": {},
   "outputs": [],
   "source": [
    "import os"
   ]
  },
  {
   "cell_type": "code",
   "execution_count": 15,
   "metadata": {},
   "outputs": [],
   "source": [
    "CURR_FOLDER_PATH = os.getcwd()\n",
    "BASE_PATH = os.path.dirname(os.path.dirname(CURR_FOLDER_PATH))\n",
    "\n",
    "DATA_PATH = os.path.join(BASE_PATH, 'data')\n",
    "DATA_RAW_PATH = os.path.join(DATA_PATH , 'raw')\n",
    "DATA_PROCESSED_PATH = os.path.join(DATA_PATH , 'processed')\n",
    "\n",
    "\n",
    "MODELS_PATH = os.path.join(BASE_PATH, 'models')\n",
    "MODELS_ITERATION_1_PATH = os.path.join(MODELS_PATH , 'iteration_1')"
   ]
  },
  {
   "cell_type": "code",
   "execution_count": null,
   "metadata": {},
   "outputs": [],
   "source": []
  }
 ],
 "metadata": {
  "kernelspec": {
   "display_name": "main_ds",
   "language": "python",
   "name": "python3"
  },
  "language_info": {
   "codemirror_mode": {
    "name": "ipython",
    "version": 3
   },
   "file_extension": ".py",
   "mimetype": "text/x-python",
   "name": "python",
   "nbconvert_exporter": "python",
   "pygments_lexer": "ipython3",
   "version": "3.10.13"
  }
 },
 "nbformat": 4,
 "nbformat_minor": 2
}
